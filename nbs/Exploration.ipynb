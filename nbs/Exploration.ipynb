{
 "cells": [
  {
   "cell_type": "code",
   "execution_count": 41,
   "id": "15e95d65",
   "metadata": {},
   "outputs": [],
   "source": [
    "import pandas as pd\n",
    "import numpy as np\n",
    "\n",
    "import matplotlib.pyplot as plt\n",
    "import seaborn as sns\n",
    "\n",
    "pd.set_option(\"display.max_rows\", 200)\n",
    "pd.set_option(\"display.max_columns\", 500)"
   ]
  },
  {
   "cell_type": "code",
   "execution_count": 2,
   "id": "1a8728e6",
   "metadata": {},
   "outputs": [],
   "source": [
    "df = pd.read_parquet(\"../parquet_files/train.parquet\")"
   ]
  },
  {
   "cell_type": "code",
   "execution_count": 3,
   "id": "b39bc0d2",
   "metadata": {},
   "outputs": [
    {
     "data": {
      "text/html": [
       "<div>\n",
       "<style scoped>\n",
       "    .dataframe tbody tr th:only-of-type {\n",
       "        vertical-align: middle;\n",
       "    }\n",
       "\n",
       "    .dataframe tbody tr th {\n",
       "        vertical-align: top;\n",
       "    }\n",
       "\n",
       "    .dataframe thead th {\n",
       "        text-align: right;\n",
       "    }\n",
       "</style>\n",
       "<table border=\"1\" class=\"dataframe\">\n",
       "  <thead>\n",
       "    <tr style=\"text-align: right;\">\n",
       "      <th></th>\n",
       "      <th>id</th>\n",
       "      <th>member_id</th>\n",
       "      <th>loan_amnt</th>\n",
       "      <th>funded_amnt</th>\n",
       "      <th>funded_amnt_inv</th>\n",
       "      <th>term</th>\n",
       "      <th>int_rate</th>\n",
       "      <th>installment</th>\n",
       "      <th>grade</th>\n",
       "      <th>sub_grade</th>\n",
       "      <th>...</th>\n",
       "      <th>hardship_payoff_balance_amount</th>\n",
       "      <th>hardship_last_payment_amount</th>\n",
       "      <th>disbursement_method</th>\n",
       "      <th>debt_settlement_flag</th>\n",
       "      <th>debt_settlement_flag_date</th>\n",
       "      <th>settlement_status</th>\n",
       "      <th>settlement_date</th>\n",
       "      <th>settlement_amount</th>\n",
       "      <th>settlement_percentage</th>\n",
       "      <th>settlement_term</th>\n",
       "    </tr>\n",
       "  </thead>\n",
       "  <tbody>\n",
       "    <tr>\n",
       "      <th>0</th>\n",
       "      <td>NaN</td>\n",
       "      <td>NaN</td>\n",
       "      <td>2500</td>\n",
       "      <td>2500</td>\n",
       "      <td>2500.0</td>\n",
       "      <td>36 months</td>\n",
       "      <td>13.56</td>\n",
       "      <td>84.92</td>\n",
       "      <td>C</td>\n",
       "      <td>C1</td>\n",
       "      <td>...</td>\n",
       "      <td>NaN</td>\n",
       "      <td>NaN</td>\n",
       "      <td>Cash</td>\n",
       "      <td>N</td>\n",
       "      <td>None</td>\n",
       "      <td>None</td>\n",
       "      <td>None</td>\n",
       "      <td>NaN</td>\n",
       "      <td>NaN</td>\n",
       "      <td>NaN</td>\n",
       "    </tr>\n",
       "    <tr>\n",
       "      <th>1</th>\n",
       "      <td>NaN</td>\n",
       "      <td>NaN</td>\n",
       "      <td>30000</td>\n",
       "      <td>30000</td>\n",
       "      <td>30000.0</td>\n",
       "      <td>60 months</td>\n",
       "      <td>18.94</td>\n",
       "      <td>777.23</td>\n",
       "      <td>D</td>\n",
       "      <td>D2</td>\n",
       "      <td>...</td>\n",
       "      <td>NaN</td>\n",
       "      <td>NaN</td>\n",
       "      <td>Cash</td>\n",
       "      <td>N</td>\n",
       "      <td>None</td>\n",
       "      <td>None</td>\n",
       "      <td>None</td>\n",
       "      <td>NaN</td>\n",
       "      <td>NaN</td>\n",
       "      <td>NaN</td>\n",
       "    </tr>\n",
       "    <tr>\n",
       "      <th>2</th>\n",
       "      <td>NaN</td>\n",
       "      <td>NaN</td>\n",
       "      <td>5000</td>\n",
       "      <td>5000</td>\n",
       "      <td>5000.0</td>\n",
       "      <td>36 months</td>\n",
       "      <td>17.97</td>\n",
       "      <td>180.69</td>\n",
       "      <td>D</td>\n",
       "      <td>D1</td>\n",
       "      <td>...</td>\n",
       "      <td>NaN</td>\n",
       "      <td>NaN</td>\n",
       "      <td>Cash</td>\n",
       "      <td>N</td>\n",
       "      <td>None</td>\n",
       "      <td>None</td>\n",
       "      <td>None</td>\n",
       "      <td>NaN</td>\n",
       "      <td>NaN</td>\n",
       "      <td>NaN</td>\n",
       "    </tr>\n",
       "    <tr>\n",
       "      <th>3</th>\n",
       "      <td>NaN</td>\n",
       "      <td>NaN</td>\n",
       "      <td>4000</td>\n",
       "      <td>4000</td>\n",
       "      <td>4000.0</td>\n",
       "      <td>36 months</td>\n",
       "      <td>18.94</td>\n",
       "      <td>146.51</td>\n",
       "      <td>D</td>\n",
       "      <td>D2</td>\n",
       "      <td>...</td>\n",
       "      <td>NaN</td>\n",
       "      <td>NaN</td>\n",
       "      <td>Cash</td>\n",
       "      <td>N</td>\n",
       "      <td>None</td>\n",
       "      <td>None</td>\n",
       "      <td>None</td>\n",
       "      <td>NaN</td>\n",
       "      <td>NaN</td>\n",
       "      <td>NaN</td>\n",
       "    </tr>\n",
       "    <tr>\n",
       "      <th>4</th>\n",
       "      <td>NaN</td>\n",
       "      <td>NaN</td>\n",
       "      <td>30000</td>\n",
       "      <td>30000</td>\n",
       "      <td>30000.0</td>\n",
       "      <td>60 months</td>\n",
       "      <td>16.14</td>\n",
       "      <td>731.78</td>\n",
       "      <td>C</td>\n",
       "      <td>C4</td>\n",
       "      <td>...</td>\n",
       "      <td>NaN</td>\n",
       "      <td>NaN</td>\n",
       "      <td>Cash</td>\n",
       "      <td>N</td>\n",
       "      <td>None</td>\n",
       "      <td>None</td>\n",
       "      <td>None</td>\n",
       "      <td>NaN</td>\n",
       "      <td>NaN</td>\n",
       "      <td>NaN</td>\n",
       "    </tr>\n",
       "  </tbody>\n",
       "</table>\n",
       "<p>5 rows × 145 columns</p>\n",
       "</div>"
      ],
      "text/plain": [
       "   id  member_id  loan_amnt  funded_amnt  funded_amnt_inv        term  \\\n",
       "0 NaN        NaN       2500         2500           2500.0   36 months   \n",
       "1 NaN        NaN      30000        30000          30000.0   60 months   \n",
       "2 NaN        NaN       5000         5000           5000.0   36 months   \n",
       "3 NaN        NaN       4000         4000           4000.0   36 months   \n",
       "4 NaN        NaN      30000        30000          30000.0   60 months   \n",
       "\n",
       "   int_rate  installment grade sub_grade  ... hardship_payoff_balance_amount  \\\n",
       "0     13.56        84.92     C        C1  ...                            NaN   \n",
       "1     18.94       777.23     D        D2  ...                            NaN   \n",
       "2     17.97       180.69     D        D1  ...                            NaN   \n",
       "3     18.94       146.51     D        D2  ...                            NaN   \n",
       "4     16.14       731.78     C        C4  ...                            NaN   \n",
       "\n",
       "  hardship_last_payment_amount disbursement_method  debt_settlement_flag  \\\n",
       "0                          NaN                Cash                     N   \n",
       "1                          NaN                Cash                     N   \n",
       "2                          NaN                Cash                     N   \n",
       "3                          NaN                Cash                     N   \n",
       "4                          NaN                Cash                     N   \n",
       "\n",
       "  debt_settlement_flag_date settlement_status settlement_date  \\\n",
       "0                      None              None            None   \n",
       "1                      None              None            None   \n",
       "2                      None              None            None   \n",
       "3                      None              None            None   \n",
       "4                      None              None            None   \n",
       "\n",
       "  settlement_amount  settlement_percentage settlement_term  \n",
       "0               NaN                    NaN             NaN  \n",
       "1               NaN                    NaN             NaN  \n",
       "2               NaN                    NaN             NaN  \n",
       "3               NaN                    NaN             NaN  \n",
       "4               NaN                    NaN             NaN  \n",
       "\n",
       "[5 rows x 145 columns]"
      ]
     },
     "execution_count": 3,
     "metadata": {},
     "output_type": "execute_result"
    }
   ],
   "source": [
    "df.head()"
   ]
  },
  {
   "cell_type": "code",
   "execution_count": 4,
   "id": "dfc7d250",
   "metadata": {},
   "outputs": [],
   "source": [
    "class FeatureSelection:\n",
    "    def __init__(self, df: pd.DataFrame, target_col: str) -> None:\n",
    "        self.dataframe = df\n",
    "        self.target_col = target_col\n",
    "        self.cols = self.dataframe.columns\n",
    "    \n",
    "\n",
    "    def get_dataframe_details(self, feature_selection_method: str) ->pd.DataFrame:\n",
    "        \"\"\"\n",
    "        feature_selection_method: takes values such 'Missing_Values' and 'Variance' as selection method\n",
    "        and returns dataframe for the respective method\n",
    "        \"\"\"\n",
    "        if feature_selection_method == \"Missing_Values\":\n",
    "            missing_pct = pd.DataFrame(columns=[\"Missing_Pct\"], index=[self.cols])\n",
    "            for col in self.cols:\n",
    "                missing_pct.loc[col, \"Missing_Pct\"] = (self.dataframe[col].isnull().sum())/ len(self.dataframe) * 100\n",
    "            return missing_pct\n",
    "        elif feature_selection_method == \"Variance\":\n",
    "            variance_df = pd.DataFrame(columns=[\"Variance\"], index=[self.cols])\n",
    "            for i in self.cols:\n",
    "                variance_df.loc[i, \"Variance\"] = (self.dataframe[i].var())\n",
    "            return variance_df\n",
    "\n",
    "        else:\n",
    "            raise Exception(\"Selection method not understood\")"
   ]
  },
  {
   "cell_type": "code",
   "execution_count": 5,
   "id": "4bafdc6f",
   "metadata": {},
   "outputs": [],
   "source": [
    "def get_nunique_value_from_categorical_col(df: pd.DataFrame) ->pd.DataFrame:\n",
    "    cat_cols = df.select_dtypes(include=\"object\").columns\n",
    "    nunique_cat_vals = pd.DataFrame(columns=[\"Nunique\"], index=[cat_cols])\n",
    "    for col in cat_cols:\n",
    "        nunique_cat_vals.loc[col, \"Nunique\"] = df[col].nunique()\n",
    "    return nunique_cat_vals"
   ]
  },
  {
   "cell_type": "code",
   "execution_count": 6,
   "id": "5fbbc26a",
   "metadata": {},
   "outputs": [],
   "source": [
    "missing_df = FeatureSelection(df=df, target_col='loan_status').get_dataframe_details(feature_selection_method=\"Missing_Values\")"
   ]
  },
  {
   "cell_type": "code",
   "execution_count": 7,
   "id": "3ae4c060",
   "metadata": {},
   "outputs": [
    {
     "data": {
      "text/html": [
       "<div>\n",
       "<style scoped>\n",
       "    .dataframe tbody tr th:only-of-type {\n",
       "        vertical-align: middle;\n",
       "    }\n",
       "\n",
       "    .dataframe tbody tr th {\n",
       "        vertical-align: top;\n",
       "    }\n",
       "\n",
       "    .dataframe thead th {\n",
       "        text-align: right;\n",
       "    }\n",
       "</style>\n",
       "<table border=\"1\" class=\"dataframe\">\n",
       "  <thead>\n",
       "    <tr style=\"text-align: right;\">\n",
       "      <th></th>\n",
       "      <th>Missing_Pct</th>\n",
       "    </tr>\n",
       "  </thead>\n",
       "  <tbody>\n",
       "    <tr>\n",
       "      <th>settlement_status</th>\n",
       "      <td>99.633383</td>\n",
       "    </tr>\n",
       "    <tr>\n",
       "      <th>settlement_date</th>\n",
       "      <td>99.633383</td>\n",
       "    </tr>\n",
       "    <tr>\n",
       "      <th>settlement_amount</th>\n",
       "      <td>99.633383</td>\n",
       "    </tr>\n",
       "    <tr>\n",
       "      <th>settlement_percentage</th>\n",
       "      <td>99.633383</td>\n",
       "    </tr>\n",
       "    <tr>\n",
       "      <th>settlement_term</th>\n",
       "      <td>99.633383</td>\n",
       "    </tr>\n",
       "  </tbody>\n",
       "</table>\n",
       "</div>"
      ],
      "text/plain": [
       "                      Missing_Pct\n",
       "settlement_status       99.633383\n",
       "settlement_date         99.633383\n",
       "settlement_amount       99.633383\n",
       "settlement_percentage   99.633383\n",
       "settlement_term         99.633383"
      ]
     },
     "execution_count": 7,
     "metadata": {},
     "output_type": "execute_result"
    }
   ],
   "source": [
    "missing_df.tail()"
   ]
  },
  {
   "cell_type": "code",
   "execution_count": 8,
   "id": "db977c2a",
   "metadata": {},
   "outputs": [],
   "source": [
    "missing_df.reset_index(inplace=True)\n",
    "col_to_drop = missing_df[missing_df.Missing_Pct >= 50]['level_0']\n",
    "df.drop(col_to_drop, axis=1, inplace=True)"
   ]
  },
  {
   "cell_type": "code",
   "execution_count": 9,
   "id": "48e1141b",
   "metadata": {},
   "outputs": [
    {
     "name": "stdout",
     "output_type": "stream",
     "text": [
      "                     Nunique\n",
      "term                       2\n",
      "grade                      7\n",
      "sub_grade                 35\n",
      "emp_title             143725\n",
      "emp_length                11\n",
      "home_ownership             4\n",
      "verification_status        3\n",
      "issue_d                   15\n",
      "loan_status                7\n",
      "pymnt_plan                 2\n",
      "purpose                   13\n",
      "title                     12\n",
      "zip_code                 905\n",
      "addr_state                50\n",
      "earliest_cr_line         687\n",
      "initial_list_status        2\n",
      "last_pymnt_d              31\n",
      "next_pymnt_d               4\n",
      "last_credit_pull_d        32\n",
      "application_type           2\n",
      "hardship_flag              2\n",
      "disbursement_method        2\n",
      "debt_settlement_flag       2\n"
     ]
    }
   ],
   "source": [
    "print(get_nunique_value_from_categorical_col(df=df))\n",
    "cat_cols_to_drop = [\"emp_title\", \"issue_d\", \"title\", \"zip_code\", \"addr_state\", \"earliest_cr_line\", \n",
    "                        \"last_pymnt_d\", \"next_pymnt_d\", \"last_credit_pull_d\"]"
   ]
  },
  {
   "cell_type": "code",
   "execution_count": 10,
   "id": "5c97185f",
   "metadata": {},
   "outputs": [],
   "source": [
    "df.drop(cat_cols_to_drop, axis=1, inplace=True)"
   ]
  },
  {
   "cell_type": "code",
   "execution_count": 11,
   "id": "5f99a823",
   "metadata": {},
   "outputs": [
    {
     "data": {
      "text/plain": [
       "Index(['term', 'grade', 'sub_grade', 'emp_length', 'home_ownership',\n",
       "       'verification_status', 'loan_status', 'pymnt_plan', 'purpose',\n",
       "       'initial_list_status', 'application_type', 'hardship_flag',\n",
       "       'disbursement_method', 'debt_settlement_flag'],\n",
       "      dtype='object')"
      ]
     },
     "execution_count": 11,
     "metadata": {},
     "output_type": "execute_result"
    }
   ],
   "source": [
    "cat_cols = df.select_dtypes(include=\"object\").columns\n",
    "cat_cols"
   ]
  },
  {
   "cell_type": "code",
   "execution_count": 12,
   "id": "03fa3884",
   "metadata": {},
   "outputs": [],
   "source": [
    "df[cat_cols] = df[cat_cols].astype(\"category\")"
   ]
  },
  {
   "cell_type": "code",
   "execution_count": 13,
   "id": "add06492",
   "metadata": {},
   "outputs": [
    {
     "data": {
      "text/plain": [
       "term                    category\n",
       "grade                   category\n",
       "sub_grade               category\n",
       "emp_length              category\n",
       "home_ownership          category\n",
       "verification_status     category\n",
       "loan_status             category\n",
       "pymnt_plan              category\n",
       "purpose                 category\n",
       "initial_list_status     category\n",
       "application_type        category\n",
       "hardship_flag           category\n",
       "disbursement_method     category\n",
       "debt_settlement_flag    category\n",
       "dtype: object"
      ]
     },
     "execution_count": 13,
     "metadata": {},
     "output_type": "execute_result"
    }
   ],
   "source": [
    "df[cat_cols].dtypes"
   ]
  },
  {
   "cell_type": "code",
   "execution_count": 14,
   "id": "8b55eed3",
   "metadata": {},
   "outputs": [],
   "source": [
    "def imputer(df: pd.DataFrame) ->pd.DataFrame:\n",
    "    for c in df.columns:\n",
    "        if c in df.select_dtypes(include=\"int\").columns:\n",
    "            df.loc[:, c].fillna(df[c].median(), inplace=True)\n",
    "        elif c in df.select_dtypes(include='object').columns:\n",
    "            df.loc[:, c].fillna(df[c].mode()[0], inplace=True)\n",
    "        return df"
   ]
  },
  {
   "cell_type": "code",
   "execution_count": 15,
   "id": "4cfbb76e",
   "metadata": {},
   "outputs": [
    {
     "data": {
      "text/plain": [
       "loan_amnt                     0\n",
       "funded_amnt                   0\n",
       "funded_amnt_inv               0\n",
       "term                          0\n",
       "int_rate                      0\n",
       "                             ..\n",
       "total_bc_limit                0\n",
       "total_il_high_credit_limit    0\n",
       "hardship_flag                 0\n",
       "disbursement_method           0\n",
       "debt_settlement_flag          0\n",
       "Length: 93, dtype: int64"
      ]
     },
     "execution_count": 15,
     "metadata": {},
     "output_type": "execute_result"
    }
   ],
   "source": [
    "df = imputer(df)\n",
    "df.isnull().sum()"
   ]
  },
  {
   "cell_type": "code",
   "execution_count": 21,
   "id": "76695e52",
   "metadata": {},
   "outputs": [],
   "source": [
    "dtypes_df = pd.DataFrame(columns=[\"Dtypes\"], index=[df.columns])\n",
    "for c in df.columns:\n",
    "    dtypes_df.loc[c, \"Dtypes\"] = df[c].dtypes"
   ]
  },
  {
   "cell_type": "code",
   "execution_count": null,
   "id": "f77aa1b7",
   "metadata": {},
   "outputs": [],
   "source": [
    "def lbl_encoding(df: pd.DataFrame) ->pd.DataFrame:\n",
    "    cat_cols = df.select_dtypes(include=\"category\").columns\n",
    "    for c in cat_cols:\n",
    "        df[c] = df[c].cat.codes\n",
    "    return df"
   ]
  },
  {
   "cell_type": "code",
   "execution_count": null,
   "id": "79d3f0b3",
   "metadata": {},
   "outputs": [],
   "source": [
    "df = lbl_encoding(df)"
   ]
  },
  {
   "cell_type": "code",
   "execution_count": null,
   "id": "f406c761",
   "metadata": {},
   "outputs": [],
   "source": [
    "df.loan_status.value_counts().plot(kind=\"bar\")"
   ]
  },
  {
   "cell_type": "code",
   "execution_count": 37,
   "id": "fec2c687",
   "metadata": {},
   "outputs": [],
   "source": [
    "num_cols = df.columns[(df.dtypes == \"float64\") | (df.dtypes == \"int64\")]"
   ]
  },
  {
   "cell_type": "code",
   "execution_count": 40,
   "id": "d2a07c41",
   "metadata": {},
   "outputs": [
    {
     "name": "stderr",
     "output_type": "stream",
     "text": [
      "/var/folders/xf/_6m_tb052fn5p84tlt773rqr0000gn/T/ipykernel_1940/2977694870.py:2: DeprecationWarning: `np.bool` is a deprecated alias for the builtin `bool`. To silence this warning, use `bool` by itself. Doing this will not modify any behavior and is safe. If you specifically wanted the numpy scalar type, use `np.bool_` here.\n",
      "Deprecated in NumPy 1.20; for more details and guidance: https://numpy.org/devdocs/release/1.20.0-notes.html#deprecations\n",
      "  upper = corr.where(np.triu(np.ones(corr.shape), k=1).astype(np.bool))\n"
     ]
    }
   ],
   "source": [
    "corr = df[num_cols].corr()\n",
    "\n",
    "# Select the upper triangle of the correlation matrix\n",
    "upper = corr.where(np.triu(np.ones(corr.shape), k=1).astype(np.bool))"
   ]
  },
  {
   "cell_type": "code",
   "execution_count": 50,
   "id": "b6c65382",
   "metadata": {},
   "outputs": [
    {
     "data": {
      "text/plain": [
       "['funded_amnt',\n",
       " 'funded_amnt_inv',\n",
       " 'installment',\n",
       " 'out_prncp_inv',\n",
       " 'total_pymnt_inv',\n",
       " 'total_rec_prncp',\n",
       " 'collection_recovery_fee',\n",
       " 'last_pymnt_amnt',\n",
       " 'acc_open_past_24mths',\n",
       " 'avg_cur_bal',\n",
       " 'bc_util',\n",
       " 'num_actv_rev_tl',\n",
       " 'num_bc_sats',\n",
       " 'num_bc_tl',\n",
       " 'num_op_rev_tl',\n",
       " 'num_rev_accts',\n",
       " 'num_rev_tl_bal_gt_0',\n",
       " 'num_sats',\n",
       " 'num_tl_30dpd',\n",
       " 'num_tl_op_past_12m',\n",
       " 'percent_bc_gt_75',\n",
       " 'pub_rec_bankruptcies',\n",
       " 'tot_hi_cred_lim',\n",
       " 'total_bal_ex_mort',\n",
       " 'total_bc_limit',\n",
       " 'total_il_high_credit_limit']"
      ]
     },
     "execution_count": 50,
     "metadata": {},
     "output_type": "execute_result"
    }
   ],
   "source": [
    "# Find index of feature columns with correlation greater than a threshold\n",
    "threshold = 0.8\n",
    "to_drop = [column for column in upper.columns if any(upper[column] > threshold)]\n",
    "to_drop"
   ]
  },
  {
   "cell_type": "code",
   "execution_count": 48,
   "id": "a39811f4",
   "metadata": {},
   "outputs": [
    {
     "data": {
      "text/plain": [
       "<AxesSubplot:>"
      ]
     },
     "execution_count": 48,
     "metadata": {},
     "output_type": "execute_result"
    },
    {
     "data": {
      "image/png": "[encoded data removed]",
      "text/plain": [
       "<Figure size 1080x576 with 2 Axes>"
      ]
     },
     "metadata": {
      "needs_background": "light"
     },
     "output_type": "display_data"
    }
   ],
   "source": [
    "plt.figure(figsize = (15, 8))\n",
    "sns.heatmap(corr, annot=False)"
   ]
  },
  {
   "cell_type": "code",
   "execution_count": null,
   "id": "875a6265",
   "metadata": {},
   "outputs": [],
   "source": []
  }
 ],
 "metadata": {
  "kernelspec": {
   "display_name": "Python 3 (ipykernel)",
   "language": "python",
   "name": "python3"
  },
  "language_info": {
   "codemirror_mode": {
    "name": "ipython",
    "version": 3
   },
   "file_extension": ".py",
   "mimetype": "text/x-python",
   "name": "python",
   "nbconvert_exporter": "python",
   "pygments_lexer": "ipython3",
   "version": "3.10.2"
  }
 },
 "nbformat": 4,
 "nbformat_minor": 5
}
